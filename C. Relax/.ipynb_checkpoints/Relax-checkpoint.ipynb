{
 "cells": [
  {
   "cell_type": "markdown",
   "metadata": {},
   "source": [
    "### Instructions\n",
    "1. Define \"adopted user\": Users who have logged into the product on three seperate days in at least ONE seven day period\n",
    "2. Identify which factors will predict future adoption\n",
    "\n",
    "### Data Dictionary:\n",
    "\n",
    "**A. user_engagement.csv**\n",
    "\n",
    "- time_stamp: mm/dd/yyy hh:mm:ss\n",
    "- user_id\n",
    "- visited: 1, indicating that they visited \n",
    "\n",
    "**B. users.csv**\n",
    "\n",
    "- name:  the  user's  name\n",
    "- object_id: the  user's  id\n",
    "- email: email address\n",
    "-  creation_source: How was account created?\n",
    "    - personal_projects: invited to join another user's personal workspace\n",
    "    - guest_invite: invited to an organization as a guest (limited permissions)\n",
    "    - org_invite: invited to an organization (as a full member)\n",
    "    - signup: signed up via the website\n",
    "    - signup_google_auth: signed up using google authentication (using a google email account for their login id)\n",
    "    \n",
    "- creation_time:  when  they  created  their  account\n",
    "- last_session_creation_time:   unix  timestamp  of  last  login\n",
    "- opted_in_to_mailing_list:  whether  they  have  opted  into  receiving\n",
    "marketing  emails\n",
    "- enabled_for_marketing_drip:  whether  they  are  on  the  regular\n",
    "marketing  email  drip\n",
    "- org_id:   the  organization  (group  of  users)  they  belong  to\n",
    "- invited_by_user_id:   which  user  invited  them  to  join  (if  applicable).\n"
   ]
  },
  {
   "cell_type": "markdown",
   "metadata": {},
   "source": [
    "## 1. Read Essentials"
   ]
  },
  {
   "cell_type": "code",
   "execution_count": 699,
   "metadata": {
    "collapsed": true
   },
   "outputs": [],
   "source": [
    "# ETL\n",
    "import pandas as pd\n",
    "import numpy as np\n",
    "from matplotlib import pyplot as plt\n",
    "\n",
    "# Feat. Engineering\n",
    "from sklearn.preprocessing import MinMaxScaler\n",
    "from datetime import datetime\n",
    "\n",
    "# Modeling\n",
    "from sklearn.ensemble import RandomForestClassifier\n",
    "\n",
    "# Tuning / Validation\n",
    "from sklearn.model_selection import train_test_split, RandomizedSearchCV\n",
    "from sklearn.metrics import confusion_matrix, classification_report\n",
    "from sklearn.metrics.scorer import f1_scorer\n",
    "\n",
    "\n",
    "%matplotlib inline\n",
    "\n",
    "raw_users = pd.read_csv('./users.csv', encoding='latin-1')\n",
    "raw_user_engagement = pd.read_csv('./user_engagement.csv')"
   ]
  },
  {
   "cell_type": "markdown",
   "metadata": {},
   "source": [
    "## 2. Explore; Initial Data Descriptives\n",
    "\n",
    "#### First 3 Records of Datasets"
   ]
  },
  {
   "cell_type": "code",
   "execution_count": 690,
   "metadata": {
    "scrolled": true
   },
   "outputs": [
    {
     "data": {
      "text/html": [
       "<div>\n",
       "<table border=\"1\" class=\"dataframe\">\n",
       "  <thead>\n",
       "    <tr style=\"text-align: right;\">\n",
       "      <th></th>\n",
       "      <th>0</th>\n",
       "      <th>1</th>\n",
       "      <th>2</th>\n",
       "    </tr>\n",
       "  </thead>\n",
       "  <tbody>\n",
       "    <tr>\n",
       "      <th>time_stamp</th>\n",
       "      <td>2014-04-22 03:53:30</td>\n",
       "      <td>2013-11-15 03:45:04</td>\n",
       "      <td>2013-11-29 03:45:04</td>\n",
       "    </tr>\n",
       "    <tr>\n",
       "      <th>user_id</th>\n",
       "      <td>1</td>\n",
       "      <td>2</td>\n",
       "      <td>2</td>\n",
       "    </tr>\n",
       "    <tr>\n",
       "      <th>visited</th>\n",
       "      <td>1</td>\n",
       "      <td>1</td>\n",
       "      <td>1</td>\n",
       "    </tr>\n",
       "  </tbody>\n",
       "</table>\n",
       "</div>"
      ],
      "text/plain": [
       "                              0                    1                    2\n",
       "time_stamp  2014-04-22 03:53:30  2013-11-15 03:45:04  2013-11-29 03:45:04\n",
       "user_id                       1                    2                    2\n",
       "visited                       1                    1                    1"
      ]
     },
     "execution_count": 690,
     "metadata": {},
     "output_type": "execute_result"
    }
   ],
   "source": [
    "raw_user_engagement.head(3).T"
   ]
  },
  {
   "cell_type": "code",
   "execution_count": 691,
   "metadata": {},
   "outputs": [
    {
     "data": {
      "text/html": [
       "<div>\n",
       "<table border=\"1\" class=\"dataframe\">\n",
       "  <thead>\n",
       "    <tr style=\"text-align: right;\">\n",
       "      <th></th>\n",
       "      <th>0</th>\n",
       "      <th>1</th>\n",
       "      <th>2</th>\n",
       "    </tr>\n",
       "  </thead>\n",
       "  <tbody>\n",
       "    <tr>\n",
       "      <th>object_id</th>\n",
       "      <td>1</td>\n",
       "      <td>2</td>\n",
       "      <td>3</td>\n",
       "    </tr>\n",
       "    <tr>\n",
       "      <th>creation_time</th>\n",
       "      <td>4/22/2014 3:53</td>\n",
       "      <td>11/15/2013 3:45</td>\n",
       "      <td>3/19/2013 23:14</td>\n",
       "    </tr>\n",
       "    <tr>\n",
       "      <th>name</th>\n",
       "      <td>Clausen August</td>\n",
       "      <td>Poole Matthew</td>\n",
       "      <td>Bottrill Mitchell</td>\n",
       "    </tr>\n",
       "    <tr>\n",
       "      <th>email</th>\n",
       "      <td>AugustCClausen@yahoo.com</td>\n",
       "      <td>MatthewPoole@gustr.com</td>\n",
       "      <td>MitchellBottrill@gustr.com</td>\n",
       "    </tr>\n",
       "    <tr>\n",
       "      <th>creation_source</th>\n",
       "      <td>GUEST_INVITE</td>\n",
       "      <td>ORG_INVITE</td>\n",
       "      <td>ORG_INVITE</td>\n",
       "    </tr>\n",
       "    <tr>\n",
       "      <th>last_session_creation_time</th>\n",
       "      <td>1.39814e+09</td>\n",
       "      <td>1.39624e+09</td>\n",
       "      <td>1.36373e+09</td>\n",
       "    </tr>\n",
       "    <tr>\n",
       "      <th>opted_in_to_mailing_list</th>\n",
       "      <td>1</td>\n",
       "      <td>0</td>\n",
       "      <td>0</td>\n",
       "    </tr>\n",
       "    <tr>\n",
       "      <th>enabled_for_marketing_drip</th>\n",
       "      <td>0</td>\n",
       "      <td>0</td>\n",
       "      <td>0</td>\n",
       "    </tr>\n",
       "    <tr>\n",
       "      <th>org_id</th>\n",
       "      <td>11</td>\n",
       "      <td>1</td>\n",
       "      <td>94</td>\n",
       "    </tr>\n",
       "    <tr>\n",
       "      <th>invited_by_user_id</th>\n",
       "      <td>10803</td>\n",
       "      <td>316</td>\n",
       "      <td>1525</td>\n",
       "    </tr>\n",
       "  </tbody>\n",
       "</table>\n",
       "</div>"
      ],
      "text/plain": [
       "                                                   0                       1  \\\n",
       "object_id                                          1                       2   \n",
       "creation_time                         4/22/2014 3:53         11/15/2013 3:45   \n",
       "name                                  Clausen August           Poole Matthew   \n",
       "email                       AugustCClausen@yahoo.com  MatthewPoole@gustr.com   \n",
       "creation_source                         GUEST_INVITE              ORG_INVITE   \n",
       "last_session_creation_time               1.39814e+09             1.39624e+09   \n",
       "opted_in_to_mailing_list                           1                       0   \n",
       "enabled_for_marketing_drip                         0                       0   \n",
       "org_id                                            11                       1   \n",
       "invited_by_user_id                             10803                     316   \n",
       "\n",
       "                                                     2  \n",
       "object_id                                            3  \n",
       "creation_time                          3/19/2013 23:14  \n",
       "name                                 Bottrill Mitchell  \n",
       "email                       MitchellBottrill@gustr.com  \n",
       "creation_source                             ORG_INVITE  \n",
       "last_session_creation_time                 1.36373e+09  \n",
       "opted_in_to_mailing_list                             0  \n",
       "enabled_for_marketing_drip                           0  \n",
       "org_id                                              94  \n",
       "invited_by_user_id                                1525  "
      ]
     },
     "execution_count": 691,
     "metadata": {},
     "output_type": "execute_result"
    }
   ],
   "source": [
    "raw_users.head(3).T"
   ]
  },
  {
   "cell_type": "markdown",
   "metadata": {},
   "source": [
    "#### Descriptive Stats"
   ]
  },
  {
   "cell_type": "code",
   "execution_count": 692,
   "metadata": {
    "scrolled": true
   },
   "outputs": [
    {
     "data": {
      "text/html": [
       "<div>\n",
       "<table border=\"1\" class=\"dataframe\">\n",
       "  <thead>\n",
       "    <tr style=\"text-align: right;\">\n",
       "      <th></th>\n",
       "      <th>count</th>\n",
       "      <th>mean</th>\n",
       "      <th>std</th>\n",
       "      <th>min</th>\n",
       "      <th>25%</th>\n",
       "      <th>50%</th>\n",
       "      <th>75%</th>\n",
       "      <th>max</th>\n",
       "    </tr>\n",
       "  </thead>\n",
       "  <tbody>\n",
       "    <tr>\n",
       "      <th>object_id</th>\n",
       "      <td>12000.0</td>\n",
       "      <td>6.000500e+03</td>\n",
       "      <td>3.464246e+03</td>\n",
       "      <td>1.000000e+00</td>\n",
       "      <td>3.000750e+03</td>\n",
       "      <td>6.000500e+03</td>\n",
       "      <td>9.000250e+03</td>\n",
       "      <td>1.200000e+04</td>\n",
       "    </tr>\n",
       "    <tr>\n",
       "      <th>last_session_creation_time</th>\n",
       "      <td>8823.0</td>\n",
       "      <td>1.379279e+09</td>\n",
       "      <td>1.953116e+07</td>\n",
       "      <td>1.338452e+09</td>\n",
       "      <td>1.363195e+09</td>\n",
       "      <td>1.382888e+09</td>\n",
       "      <td>1.398443e+09</td>\n",
       "      <td>1.402067e+09</td>\n",
       "    </tr>\n",
       "    <tr>\n",
       "      <th>opted_in_to_mailing_list</th>\n",
       "      <td>12000.0</td>\n",
       "      <td>2.495000e-01</td>\n",
       "      <td>4.327417e-01</td>\n",
       "      <td>0.000000e+00</td>\n",
       "      <td>0.000000e+00</td>\n",
       "      <td>0.000000e+00</td>\n",
       "      <td>0.000000e+00</td>\n",
       "      <td>1.000000e+00</td>\n",
       "    </tr>\n",
       "    <tr>\n",
       "      <th>enabled_for_marketing_drip</th>\n",
       "      <td>12000.0</td>\n",
       "      <td>1.493333e-01</td>\n",
       "      <td>3.564316e-01</td>\n",
       "      <td>0.000000e+00</td>\n",
       "      <td>0.000000e+00</td>\n",
       "      <td>0.000000e+00</td>\n",
       "      <td>0.000000e+00</td>\n",
       "      <td>1.000000e+00</td>\n",
       "    </tr>\n",
       "    <tr>\n",
       "      <th>org_id</th>\n",
       "      <td>12000.0</td>\n",
       "      <td>1.418846e+02</td>\n",
       "      <td>1.240567e+02</td>\n",
       "      <td>0.000000e+00</td>\n",
       "      <td>2.900000e+01</td>\n",
       "      <td>1.080000e+02</td>\n",
       "      <td>2.382500e+02</td>\n",
       "      <td>4.160000e+02</td>\n",
       "    </tr>\n",
       "    <tr>\n",
       "      <th>invited_by_user_id</th>\n",
       "      <td>6417.0</td>\n",
       "      <td>5.962957e+03</td>\n",
       "      <td>3.383762e+03</td>\n",
       "      <td>3.000000e+00</td>\n",
       "      <td>3.058000e+03</td>\n",
       "      <td>5.954000e+03</td>\n",
       "      <td>8.817000e+03</td>\n",
       "      <td>1.199900e+04</td>\n",
       "    </tr>\n",
       "    <tr>\n",
       "      <th>user_id</th>\n",
       "      <td>207917.0</td>\n",
       "      <td>5.913314e+03</td>\n",
       "      <td>3.394942e+03</td>\n",
       "      <td>1.000000e+00</td>\n",
       "      <td>3.087000e+03</td>\n",
       "      <td>5.682000e+03</td>\n",
       "      <td>8.944000e+03</td>\n",
       "      <td>1.200000e+04</td>\n",
       "    </tr>\n",
       "    <tr>\n",
       "      <th>visited</th>\n",
       "      <td>207917.0</td>\n",
       "      <td>1.000000e+00</td>\n",
       "      <td>0.000000e+00</td>\n",
       "      <td>1.000000e+00</td>\n",
       "      <td>1.000000e+00</td>\n",
       "      <td>1.000000e+00</td>\n",
       "      <td>1.000000e+00</td>\n",
       "      <td>1.000000e+00</td>\n",
       "    </tr>\n",
       "  </tbody>\n",
       "</table>\n",
       "</div>"
      ],
      "text/plain": [
       "                               count          mean           std  \\\n",
       "object_id                    12000.0  6.000500e+03  3.464246e+03   \n",
       "last_session_creation_time    8823.0  1.379279e+09  1.953116e+07   \n",
       "opted_in_to_mailing_list     12000.0  2.495000e-01  4.327417e-01   \n",
       "enabled_for_marketing_drip   12000.0  1.493333e-01  3.564316e-01   \n",
       "org_id                       12000.0  1.418846e+02  1.240567e+02   \n",
       "invited_by_user_id            6417.0  5.962957e+03  3.383762e+03   \n",
       "user_id                     207917.0  5.913314e+03  3.394942e+03   \n",
       "visited                     207917.0  1.000000e+00  0.000000e+00   \n",
       "\n",
       "                                     min           25%           50%  \\\n",
       "object_id                   1.000000e+00  3.000750e+03  6.000500e+03   \n",
       "last_session_creation_time  1.338452e+09  1.363195e+09  1.382888e+09   \n",
       "opted_in_to_mailing_list    0.000000e+00  0.000000e+00  0.000000e+00   \n",
       "enabled_for_marketing_drip  0.000000e+00  0.000000e+00  0.000000e+00   \n",
       "org_id                      0.000000e+00  2.900000e+01  1.080000e+02   \n",
       "invited_by_user_id          3.000000e+00  3.058000e+03  5.954000e+03   \n",
       "user_id                     1.000000e+00  3.087000e+03  5.682000e+03   \n",
       "visited                     1.000000e+00  1.000000e+00  1.000000e+00   \n",
       "\n",
       "                                     75%           max  \n",
       "object_id                   9.000250e+03  1.200000e+04  \n",
       "last_session_creation_time  1.398443e+09  1.402067e+09  \n",
       "opted_in_to_mailing_list    0.000000e+00  1.000000e+00  \n",
       "enabled_for_marketing_drip  0.000000e+00  1.000000e+00  \n",
       "org_id                      2.382500e+02  4.160000e+02  \n",
       "invited_by_user_id          8.817000e+03  1.199900e+04  \n",
       "user_id                     8.944000e+03  1.200000e+04  \n",
       "visited                     1.000000e+00  1.000000e+00  "
      ]
     },
     "execution_count": 692,
     "metadata": {},
     "output_type": "execute_result"
    }
   ],
   "source": [
    "pd.concat([raw_users.describe(), raw_user_engagement.describe()], axis = 1).T"
   ]
  },
  {
   "cell_type": "markdown",
   "metadata": {},
   "source": [
    "#### Bar Plots"
   ]
  },
  {
   "cell_type": "code",
   "execution_count": 693,
   "metadata": {
    "scrolled": false
   },
   "outputs": [
    {
     "name": "stderr",
     "output_type": "stream",
     "text": [
      "C:\\Users\\Cglan\\AppData\\Local\\Continuum\\Anaconda3\\lib\\site-packages\\statsmodels\\nonparametric\\kdetools.py:20: VisibleDeprecationWarning: using a non-integer number instead of an integer will result in an error in the future\n",
      "  y = X[:m/2+1] + np.r_[0,X[m/2+1:],0]*1j\n"
     ]
    },
    {
     "data": {
      "image/png": "[encoded data removed]",
      "text/plain": [
       "<matplotlib.figure.Figure at 0x17f9f9fe668>"
      ]
     },
     "metadata": {},
     "output_type": "display_data"
    }
   ],
   "source": [
    "users = raw_users \n",
    "users.ix[ raw_users.object_id.isin(raw_user_engagement.user_id),\"both\"] = \"Complete\"\n",
    "users.ix[~raw_users.object_id.isin(raw_user_engagement.user_id),\"both\"] = \"Incomplete\"\n",
    "\n",
    "plt.figure(figsize = (20,4))\n",
    "\n",
    "plt.subplot(1,4,1)\n",
    "users.groupby('both').size().plot.bar()\n",
    "plt.title('Missing Values')\n",
    "\n",
    "plt.subplot(1,4,2)\n",
    "raw_users.groupby('creation_source').size().plot.bar()\n",
    "plt.title('Creation Source') \n",
    "\n",
    "plt.subplot(1,4,3)\n",
    "orgs.reset_index(drop = True).sort_values(ascending = False).plot.bar(title = 'Organization IDs by # of Users')\n",
    "plt.axis('off')\n",
    "\n",
    "plt.subplot(1,4,4)\n",
    "sns.distplot(orgs.dropna())\n",
    "plt.title('Distribution of Org Size')\n",
    "\n",
    "plt.show()"
   ]
  },
  {
   "cell_type": "markdown",
   "metadata": {},
   "source": [
    "## 3.  ETL to create Target"
   ]
  },
  {
   "cell_type": "code",
   "execution_count": 694,
   "metadata": {
    "collapsed": true
   },
   "outputs": [],
   "source": [
    "user_engagement = raw_user_engagement\n",
    "user_engagement.time_stamp = pd.to_datetime(user_engagement.time_stamp)\n",
    "user_engagement = user_engagement.set_index('time_stamp').to_period('d')\n",
    "user_engagement = user_engagement.groupby('user_id')[['visited']]\n",
    "user_engagement = user_engagement.resample(\"1d\").count().rolling(window=7, min_periods=1).sum()\n",
    "user_engagement['meets'] = (user_engagement.visited > 2)+0\n",
    "def target(x):\n",
    "    return (sum(x) > 0) + 0\n",
    "target = user_engagement.reset_index().pivot_table(index = 'user_id', values = 'meets', aggfunc = [target])"
   ]
  },
  {
   "cell_type": "markdown",
   "metadata": {},
   "source": [
    "#### Plot Target Classes"
   ]
  },
  {
   "cell_type": "code",
   "execution_count": 695,
   "metadata": {},
   "outputs": [
    {
     "data": {
      "image/png": "[encoded data removed]",
      "text/plain": [
       "<matplotlib.figure.Figure at 0x17f9df34d68>"
      ]
     },
     "metadata": {},
     "output_type": "display_data"
    }
   ],
   "source": [
    "plt.figure(figsize = (20,3))\n",
    "plt.title('')\n",
    "target.groupby('target').size().plot.bar()\n",
    "plt.xticks([0,1],('Not Adopted','Adopted'), rotation = 0)\n",
    "plt.title('Class Imbalance in Target Variable')\n",
    "plt.show()"
   ]
  },
  {
   "cell_type": "markdown",
   "metadata": {},
   "source": [
    "## 4. Data Cleanse  + Feature Engineering:"
   ]
  },
  {
   "cell_type": "code",
   "execution_count": 696,
   "metadata": {},
   "outputs": [],
   "source": [
    "# Read data\n",
    "raw_users = pd.read_csv('./users.csv', encoding='latin-1')\n",
    "\n",
    "# Create Email Cleaner\n",
    "def email_cleaner(x):\n",
    "    return x[x.find(\"@\"):].replace(\"@\",\"\").replace(\".com\", \"\").replace(\".de\",\"\")\n",
    "\n",
    "# Create X and Y frames\n",
    "users = raw_users\n",
    "X = users\n",
    "y = users.merge(target, left_on = 'object_id', right_index=True, how = 'left').fillna(0).target\n",
    "\n",
    "# Clean Nulls in invited user. Make binary.\n",
    "X.ix[X.invited_by_user_id.isnull(),'invited_by_user_id'] = 0\n",
    "X.ix[X.invited_by_user_id != 0,'invited_by_user_id'] = 1\n",
    "\n",
    "# Clean Emails to show domain only\n",
    "X.email = X.email.apply(email_cleaner)\n",
    "most_popular_emails = X.groupby('email').size().sort_values(ascending = False).head(6).index\n",
    "X.ix[~X.email.isin(most_popular_emails),'email'] = 'uncommon'\n",
    "X['email'] = \"email_\"+X.email\n",
    "\n",
    "# Clean ORG ID Column\n",
    "X.org_id = \"org_\"+ X.org_id.astype(str)\n",
    "\n",
    "# Create \"recent_login_less_created\": \n",
    "# which looks at the number of days between create date and account creation\n",
    "\n",
    "X.creation_time = pd.to_datetime(X.creation_time)\n",
    "X.last_session_creation_time = [i if pd.isnull(i) == True else datetime.fromtimestamp(int(i)).strftime('%Y-%m-%d %H:%M:%S') for i in X.last_session_creation_time]\n",
    "X.ix[X.last_session_creation_time.isnull(),['last_session_creation_time']] = X.ix[X.last_session_creation_time.isnull(),].creation_time.astype('O')\n",
    "X.last_session_creation_time = pd.to_datetime(X.last_session_creation_time)\n",
    "X['recent_login_less_created'] = (X.last_session_creation_time.dt.date - X.creation_time.dt.date)\n",
    "X['recent_login_less_created'] = (X.recent_login_less_created / np.timedelta64(1, 'D')).astype(int)\n",
    "X['recent_login_less_created'] = [0 if i<0 else i for i in X['recent_login_less_created']]\n",
    "\n",
    "# Create week day\n",
    "creation_weekday = pd.to_datetime(X[\"creation_time\"]).dt.weekday_name\n",
    "creation_month = pd.to_datetime(X[\"creation_time\"]).dt.month\n",
    "creation_time = pd.to_datetime(X[\"creation_time\"]).dt.hour\n",
    "\n",
    "# Generate Dummy columns\n",
    "month_dummy = pd.get_dummies(creation_month)\n",
    "weekday_dummy = pd.get_dummies(creation_weekday)\n",
    "org_dummy = pd.get_dummies(X.org_id)\n",
    "email_dummy = pd.get_dummies(X.email)\n",
    "source_dummy = pd.get_dummies(X.creation_source)\n",
    "\n",
    "# Append Dummy Columns to \"X\" Frame.\n",
    "X = pd.concat(\n",
    "    [X,\n",
    "     creation_time,\n",
    "     #org_dummy,\n",
    "     month_dummy,\n",
    "     weekday_dummy,\n",
    "     source_dummy,\n",
    "     email_dummy], axis = 1)\n",
    "\n",
    "# Remove Non-Features\n",
    "X = X.drop(['email','name','creation_time','last_session_creation_time','object_id','org_id','creation_source'], axis = 1)"
   ]
  },
  {
   "cell_type": "markdown",
   "metadata": {},
   "source": [
    "## 5. Split Data, Hypertune, Cross Validation\n",
    "- Parameter tuning\n",
    "- Random Search\n",
    "- Cross validation scores with 5 folds cross validation"
   ]
  },
  {
   "cell_type": "code",
   "execution_count": 705,
   "metadata": {
    "scrolled": false
   },
   "outputs": [
    {
     "data": {
      "text/plain": [
       "RandomizedSearchCV(cv=5, error_score='raise',\n",
       "          estimator=RandomForestClassifier(bootstrap=True, class_weight='balanced',\n",
       "            criterion='gini', max_depth=None, max_features='auto',\n",
       "            max_leaf_nodes=None, min_impurity_split=1e-07,\n",
       "            min_samples_leaf=1, min_samples_split=2,\n",
       "            min_weight_fraction_leaf=0.0, n_estimators=10, n_jobs=-1,\n",
       "            oob_score=False, random_state=123, verbose=0, warm_start=False),\n",
       "          fit_params={}, iid=True, n_iter=30, n_jobs=1,\n",
       "          param_distributions={'criterion': ['gini', 'entropy'], 'max_depth': array([ 5,  6,  7,  8,  9, 10, 11, 12, 13, 14, 15, 16, 17, 18, 19, 20, 21,\n",
       "       22, 23, 24, 25, 26, 27, 28, 29]), 'max_features': array([ 2,  3,  4,  5,  6,  7,  8,  9, 10, 11, 12, 13, 14, 15, 16, 17, 18,\n",
       "       19, 20, 21, 22, 23, 24, 25, 26, 27, 28, 29, 30, 31, 32, 33, 34]), 'n_estimators': array([300, 301, ..., 998, 999])},\n",
       "          pre_dispatch='2*n_jobs', random_state=None, refit=True,\n",
       "          return_train_score=True, scoring='f1', verbose=0)"
      ]
     },
     "execution_count": 705,
     "metadata": {},
     "output_type": "execute_result"
    }
   ],
   "source": [
    "#  Progress Bar Print Out\n",
    "def f1_prog_bar(*args):\n",
    "    score = f1_scorer(*args)\n",
    "    print('F1 is {}'.format(score))\n",
    "    return score\n",
    "\n",
    "# 15/85 Train Test Split. \n",
    "X_train, X_test, y_train, y_test = train_test_split(X, y, random_state = 100, test_size = .15)\n",
    "X_train.shape,y_train.shape, X_test.shape, y_test.shape,\n",
    "\n",
    "# Parameter Grid\n",
    "param_dist = {\n",
    "    'criterion': ['gini', 'entropy'],\n",
    "    \"max_depth\": np.arange(5,30),\n",
    "    \"max_features\": np.arange(2,X.shape[1]),\n",
    "    \"n_estimators\": np.arange(300,1000)}\n",
    "\n",
    "# Instantiate RF model with class weights bc of class imbalance\n",
    "clf = RandomForestClassifier(n_jobs=-1, random_state = 123, class_weight = 'balanced')\n",
    "\n",
    "# run randomized search with 30 iterations\n",
    "# 5 fold cross validation\n",
    "# score on \"f1\"\n",
    "\n",
    "n_iter_search = 30\n",
    "\n",
    "random = RandomizedSearchCV(\n",
    "    clf,\n",
    "    param_distributions=param_dist,\n",
    "    cv=5,\n",
    "    n_iter=n_iter_search, \n",
    "    scoring = 'f1' #f1_prog_bar\n",
    ")"
   ]
  },
  {
   "cell_type": "markdown",
   "metadata": {},
   "source": [
    "### 6. Test Performance on holdout data"
   ]
  },
  {
   "cell_type": "code",
   "execution_count": 706,
   "metadata": {},
   "outputs": [
    {
     "name": "stdout",
     "output_type": "stream",
     "text": [
      "             precision    recall  f1-score   support\n",
      "\n",
      "        0.0       0.62      0.65      0.63       595\n",
      "        1.0       0.82      0.80      0.81      1205\n",
      "\n",
      "avg / total       0.75      0.75      0.75      1800\n",
      "\n",
      "[[385 210]\n",
      " [238 967]]\n"
     ]
    }
   ],
   "source": [
    "# Fit on Train, test on \n",
    "random.best_estimator_.fit(X_train.values, y_train.values)\n",
    "y_pred_in = random.best_estimator_.predict(X_test)\n",
    "y_test_in = y_test\n",
    "print(classification_report(y_pred=y_pred_in, y_true=y_test_in))\n",
    "print(confusion_matrix(y_pred=y_pred_in, y_true=y_test_in))"
   ]
  },
  {
   "cell_type": "markdown",
   "metadata": {},
   "source": [
    "### 7. Feature Importance\n",
    "- Goal: Create a table with two columns: Variable and Importance. Sort by Importance. Tell a short story as to why certain variables are most or least important.\n",
    "- Use either [permutation Feature Importance (may take a while)](https://github.com/hackoregon/civicu-machine-learning/blob/master/lessons/13-Hyperparameter-Optimization/Class%2013%20-%20Part%202%2C%20Permutation%20Feature%20Importance.ipynb) or [RandomForest's Feature Importance method](http://scikit-learn.org/stable/modules/generated/sklearn.tree.DecisionTreeClassifier.html)"
   ]
  },
  {
   "cell_type": "markdown",
   "metadata": {},
   "source": [
    "** Method 1: Via Random Forest Model** "
   ]
  },
  {
   "cell_type": "code",
   "execution_count": 707,
   "metadata": {},
   "outputs": [
    {
     "name": "stderr",
     "output_type": "stream",
     "text": [
      "C:\\Users\\Cglan\\AppData\\Local\\Continuum\\Anaconda3\\lib\\site-packages\\sklearn\\preprocessing\\data.py:321: DeprecationWarning: Passing 1d arrays as data is deprecated in 0.17 and will raise ValueError in 0.19. Reshape your data either using X.reshape(-1, 1) if your data has a single feature or X.reshape(1, -1) if it contains a single sample.\n",
      "  warnings.warn(DEPRECATION_MSG_1D, DeprecationWarning)\n",
      "C:\\Users\\Cglan\\AppData\\Local\\Continuum\\Anaconda3\\lib\\site-packages\\sklearn\\preprocessing\\data.py:356: DeprecationWarning: Passing 1d arrays as data is deprecated in 0.17 and will raise ValueError in 0.19. Reshape your data either using X.reshape(-1, 1) if your data has a single feature or X.reshape(1, -1) if it contains a single sample.\n",
      "  warnings.warn(DEPRECATION_MSG_1D, DeprecationWarning)\n"
     ]
    }
   ],
   "source": [
    "importance_m1 = pd.DataFrame(\n",
    "    {'Variable':X_test.columns.values,\n",
    "     'Importance_RF':random.best_estimator_.feature_importances_},\n",
    "    columns = [\"Variable\", \"Importance_RF\"])\\\n",
    "    .sort_values('Importance_RF', ascending = False)\n",
    "    \n",
    "this = MinMaxScaler()\n",
    "importance_m1.Importance_RF = this.fit_transform(importance_m1.Importance_RF)"
   ]
  },
  {
   "cell_type": "markdown",
   "metadata": {},
   "source": [
    "** Method 2: Permutation Feature Importance**"
   ]
  },
  {
   "cell_type": "code",
   "execution_count": 708,
   "metadata": {
    "collapsed": true
   },
   "outputs": [],
   "source": [
    "frame_in = X_test\n",
    "clf = random.best_estimator_\n",
    "clf.fit(X_train, y_train)\n",
    "baseline = clf.score(X_test, y_test)\n",
    "baseline\n",
    "\n",
    "def shuffler_col(col,frame_in ):   \n",
    "    ## create new frame \n",
    "    frame_i = pd.concat(\n",
    "        [frame_in[col].sample(frac = 1).reset_index(drop = True), # shuffle a column, reset index\n",
    "         frame_in.drop(col, 1).reset_index(drop = True)],1) # drop column shuffled, reset index\n",
    "    \n",
    "    frame_i = frame_i[frame_in.columns] # reorder to original\n",
    "    return frame_i\n",
    "\n",
    "frame_in = frame_in\n",
    "shuffles = 500\n",
    "measure = [] # will hold all variables\n",
    "\n",
    "for i in frame_in:\n",
    "    col_i =[] # hold all shuffles of column i\n",
    "    for j in range(shuffles):\n",
    "            col_i_shuffled = shuffler_col(col = i , frame_in = frame_in)\n",
    "            col_i.append(clf.score(col_i_shuffled, y_test)<baseline) # score and tell me if it's < baseline (it does worse)\n",
    "     # append the mean, aka - the proportion of times where shuffled data set of a particular column i < baseline score\n",
    "    measure.append(np.mean(col_i))"
   ]
  },
  {
   "cell_type": "code",
   "execution_count": 944,
   "metadata": {},
   "outputs": [
    {
     "name": "stderr",
     "output_type": "stream",
     "text": [
      "C:\\Users\\Cglan\\AppData\\Local\\Continuum\\Anaconda3\\lib\\site-packages\\ipykernel\\__main__.py:1: FutureWarning: sort(....) is deprecated, use sort_index(.....)\n",
      "  if __name__ == '__main__':\n",
      "C:\\Users\\Cglan\\AppData\\Local\\Continuum\\Anaconda3\\lib\\site-packages\\ipykernel\\__main__.py:2: FutureWarning: sort(....) is deprecated, use sort_index(.....)\n",
      "  from ipykernel import kernelapp as app\n"
     ]
    }
   ],
   "source": []
  },
  {
   "cell_type": "code",
   "execution_count": 950,
   "metadata": {},
   "outputs": [
    {
     "name": "stderr",
     "output_type": "stream",
     "text": [
      "C:\\Users\\Cglan\\AppData\\Local\\Continuum\\Anaconda3\\lib\\site-packages\\ipykernel\\__main__.py:1: FutureWarning: sort(....) is deprecated, use sort_index(.....)\n",
      "  if __name__ == '__main__':\n",
      "C:\\Users\\Cglan\\AppData\\Local\\Continuum\\Anaconda3\\lib\\site-packages\\ipykernel\\__main__.py:2: FutureWarning: sort(....) is deprecated, use sort_index(.....)\n",
      "  from ipykernel import kernelapp as app\n"
     ]
    }
   ],
   "source": [
    "importance1 = importance_m1.sort()\n",
    "importance2 = importance_m2.sort()\n",
    "importance1['number'] = np.arange(0,importance1.shape[0]).astype(\"O\")\n",
    "importance1.Importance_RF = importance1.Importance_RF.rank(ascending = False)\n",
    "importance1['Importance_Permute'] = importance2.Importance_Permute.rank(ascending = False)\n",
    "importance1.Variable = importance1['number'].map(str)+\". \"+importance1['Variable'].map(str)"
   ]
  },
  {
   "cell_type": "code",
   "execution_count": 951,
   "metadata": {},
   "outputs": [],
   "source": [
    "def label_point(x, y, val, ax):\n",
    "    a = pd.concat({'x': x, 'y': y, 'val': val}, axis=1)\n",
    "    for i, point in a.iterrows():\n",
    "        ax.text(point['x']+.25, point['y']+.25, str(point['val']))\n"
   ]
  },
  {
   "cell_type": "markdown",
   "metadata": {},
   "source": [
    "The plot below compares two methods of feature importance. On the Y-axis, we have feature importance from a random forest model. Alternatively, on the X-axis we have feature importance produced using a shuffling method to uncover a variable's impact on prediction outcomes versus a baseline. The result is two variables that are ranked according to these methods.\n",
    "\n",
    "Lower left quadrant highlights variables that move methods determine as most important. "
   ]
  },
  {
   "cell_type": "code",
   "execution_count": 953,
   "metadata": {},
   "outputs": [
    {
     "data": {
      "image/png": "[encoded data removed]",
      "text/plain": [
       "<matplotlib.figure.Figure at 0x17fa03d1240>"
      ]
     },
     "metadata": {},
     "output_type": "display_data"
    }
   ],
   "source": [
    "sns.lmplot(x = 'Importance_Permute', y = 'Importance_RF',\n",
    "           data = importance1, hue = 'Variable',  fit_reg= False, size=10, aspect=1)\n",
    "label_point(\n",
    "    x = importance1.Importance_Permute, y = importance1.Importance_RF, val = importance1.number, ax = plt.gca())  \n",
    "plt.axvline(x = np.median(importance1.Importance_Permute))\n",
    "plt.axhline(y = np.median(importance1.Importance_RF))\n",
    "plt.title(\"Ranked Variable Importance: Random Forest vs Permutation Feature Importance \")\n",
    "plt.xlabel('Permutation Feature Importance Rank')\n",
    "plt.ylabel('Random Forest Feature Importance Rank')\n",
    "plt.show()"
   ]
  },
  {
   "cell_type": "markdown",
   "metadata": {},
   "source": [
    "### 8. Final Thoughts\n",
    "\n",
    "Given this, we have evidence of the following being main drivers:\n",
    "- 25 Personal Projects\n",
    "- 26 Signup via website\n",
    "- 27 Signup via google auth\n",
    "- 29 A gmail user\n",
    "- 1 enabled marketing\n",
    "- 2 Invited by another user\n",
    "- 24 Org Invite\n",
    "- 17 Created an account on Monday\n",
    "- 21 Created an account on Tuesday\n",
    "\n",
    "A notable differentiator between adopted and non-adopted users:\n",
    "- 3. Recent Logins Date - Account Created Date\n"
   ]
  },
  {
   "cell_type": "code",
   "execution_count": null,
   "metadata": {
    "collapsed": true
   },
   "outputs": [],
   "source": [
    "- "
   ]
  }
 ],
 "metadata": {
  "kernelspec": {
   "display_name": "Python 3",
   "language": "python",
   "name": "python3"
  },
  "language_info": {
   "codemirror_mode": {
    "name": "ipython",
    "version": 3
   },
   "file_extension": ".py",
   "mimetype": "text/x-python",
   "name": "python",
   "nbconvert_exporter": "python",
   "pygments_lexer": "ipython3",
   "version": "3.6.0"
  }
 },
 "nbformat": 4,
 "nbformat_minor": 2
}
