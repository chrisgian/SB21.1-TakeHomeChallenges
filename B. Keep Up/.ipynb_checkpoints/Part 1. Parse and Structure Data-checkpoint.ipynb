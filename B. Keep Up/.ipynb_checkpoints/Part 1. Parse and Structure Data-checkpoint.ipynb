{
 "cells": [
  {
   "cell_type": "markdown",
   "metadata": {},
   "source": [
    "# Goal: \n",
    "- Extract Reviews and Category Content for Each Product Id"
   ]
  },
  {
   "cell_type": "markdown",
   "metadata": {},
   "source": [
    "## load Modules, Read Raw Reviews, Check Count of Reviews"
   ]
  },
  {
   "cell_type": "code",
   "execution_count": 1,
   "metadata": {},
   "outputs": [
    {
     "name": "stdout",
     "output_type": "stream",
     "text": [
      "Number of lines 15010574\n"
     ]
    }
   ],
   "source": [
    "import pandas as pd\n",
    "import re\n",
    "import numpy as np\n",
    "from itertools import islice\n",
    "\n",
    "raw_reviews = open(\"amazon-meta.txt\",encoding=\"utf8\")\n",
    "raw_reviews = raw_reviews.readlines()\n",
    "print(\"Number of lines\", len(raw_reviews))"
   ]
  },
  {
   "cell_type": "markdown",
   "metadata": {},
   "source": [
    "## Extract IDS"
   ]
  },
  {
   "cell_type": "code",
   "execution_count": 2,
   "metadata": {},
   "outputs": [],
   "source": [
    "class extract:\n",
    "    def __init__(self, N = None):\n",
    "        if N == None:\n",
    "            self.content = open(\"amazon-meta.txt\",encoding=\"utf8\")\n",
    "        else: \n",
    "            self.content = open(\"amazon-meta.txt\",encoding=\"utf8\")\n",
    "            self.content = list(islice(self.content, N))\n",
    "       \n",
    "        self.indexed_content= enumerate(self.content, 1)\n",
    "\n",
    "    def find(self,search_by, columns = None):\n",
    "        self.line_content = []\n",
    "        self.line_location = []\n",
    "        \n",
    "        for num, line in self.indexed_content:\n",
    "            if re.match(search_by, np.str.strip(line)) is None:\n",
    "                pass\n",
    "            else:\n",
    "                self.line_location.append(num)\n",
    "                self.line_content.append(line)\n",
    "                \n",
    "        if columns == None:\n",
    "            self.extracted_content = [np.str.split(np.str.strip(i)) for i in self.line_content] # Keep these as strings so can look into during debug\n",
    "        else:\n",
    "            self.extracted_content = [[np.str.split(np.str.strip(i))[column] for column in columns] for i in self.line_content] # Keep these as strings so can look into\n",
    "             "
   ]
  },
  {
   "cell_type": "code",
   "execution_count": null,
   "metadata": {},
   "outputs": [],
   "source": []
  },
  {
   "cell_type": "code",
   "execution_count": 3,
   "metadata": {},
   "outputs": [],
   "source": [
    "id_extraction = extract()\n",
    "id_extraction.find(\"^Id:\")\n",
    "\n",
    "review_extraction = extract()\n",
    "review_extraction.find(\"^reviews:\")\n",
    "\n",
    "category_extraction = extract()\n",
    "category_extraction.find(\"^categories:\")\n",
    "\n",
    "df_id_locations = pd.DataFrame({\"start\":id_extraction.line_location,\"ID\":[int(i[1]) for i in id_extraction.extracted_content]})\n",
    "df_id_locations['end'] = df_id_locations.start.shift(-1)"
   ]
  },
  {
   "cell_type": "code",
   "execution_count": 4,
   "metadata": {},
   "outputs": [],
   "source": [
    "extract_group = extract()\n",
    "extract_group.find('group:')\n",
    "\n",
    "extract_rank = extract()\n",
    "extract_rank.find('salesrank:')\n",
    "\n",
    "extract_sim = extract()\n",
    "extract_sim.find('similar:')\n"
   ]
  },
  {
   "cell_type": "markdown",
   "metadata": {},
   "source": [
    "## Build Index of Content Location"
   ]
  },
  {
   "cell_type": "markdown",
   "metadata": {},
   "source": [
    "### 1. EXTRACT CHUNKS"
   ]
  },
  {
   "cell_type": "code",
   "execution_count": 5,
   "metadata": {},
   "outputs": [],
   "source": [
    "file = extract()\n",
    "file = [i for i in file.content]"
   ]
  },
  {
   "cell_type": "code",
   "execution_count": 6,
   "metadata": {},
   "outputs": [
    {
     "data": {
      "text/plain": [
       "['Total items: 548552\\n',\n",
       " '\\n',\n",
       " 'Id:   0\\n',\n",
       " 'ASIN: 0771044445\\n',\n",
       " '  discontinued product\\n',\n",
       " '\\n',\n",
       " 'Id:   1\\n',\n",
       " 'ASIN: 0827229534\\n',\n",
       " '  title: Patterns of Preaching: A Sermon Sampler\\n',\n",
       " '  group: Book\\n',\n",
       " '  salesrank: 396585\\n',\n",
       " '  similar: 5  0804215715  156101074X  0687023955  0687074231  082721619X\\n',\n",
       " '  categories: 2\\n',\n",
       " '   |Books[283155]|Subjects[1000]|Religion & Spirituality[22]|Christianity[12290]|Clergy[12360]|Preaching[12368]\\n',\n",
       " '   |Books[283155]|Subjects[1000]|Religion & Spirituality[22]|Christianity[12290]|Clergy[12360]|Sermons[12370]\\n',\n",
       " '  reviews: total: 2  downloaded: 2  avg rating: 5\\n',\n",
       " '    2000-7-28  cutomer: A2JW67OY8U6HHK  rating: 5  votes:  10  helpful:   9\\n',\n",
       " '    2003-12-14  cutomer: A2VE83MZF98ITY  rating: 5  votes:   6  helpful:   5\\n',\n",
       " '\\n',\n",
       " 'Id:   2\\n',\n",
       " 'ASIN: 0738700797\\n',\n",
       " '  title: Candlemas: Feast of Flames\\n',\n",
       " '  group: Book\\n',\n",
       " '  salesrank: 168596\\n',\n",
       " '  similar: 5  0738700827  1567184960  1567182836  0738700525  0738700940\\n',\n",
       " '  categories: 2\\n',\n",
       " '   |Books[283155]|Subjects[1000]|Religion & Spirituality[22]|Earth-Based Religions[12472]|Wicca[12484]\\n',\n",
       " '   |Books[283155]|Subjects[1000]|Religion & Spirituality[22]|Earth-Based Religions[12472]|Witchcraft[12486]\\n',\n",
       " '  reviews: total: 12  downloaded: 12  avg rating: 4.5\\n',\n",
       " '    2001-12-16  cutomer: A11NCO6YTE4BTJ  rating: 5  votes:   5  helpful:   4\\n',\n",
       " '    2002-1-7  cutomer:  A9CQ3PLRNIR83  rating: 4  votes:   5  helpful:   5\\n',\n",
       " '    2002-1-24  cutomer: A13SG9ACZ9O5IM  rating: 5  votes:   8  helpful:   8\\n',\n",
       " '    2002-1-28  cutomer: A1BDAI6VEYMAZA  rating: 5  votes:   4  helpful:   4\\n',\n",
       " '    2002-2-6  cutomer: A2P6KAWXJ16234  rating: 4  votes:  16  helpful:  16\\n',\n",
       " '    2002-2-14  cutomer:  AMACWC3M7PQFR  rating: 4  votes:   5  helpful:   5\\n',\n",
       " '    2002-3-23  cutomer: A3GO7UV9XX14D8  rating: 4  votes:   6  helpful:   6\\n',\n",
       " '    2002-5-23  cutomer: A1GIL64QK68WKL  rating: 5  votes:   8  helpful:   8\\n',\n",
       " '    2003-2-25  cutomer:  AEOBOF2ONQJWV  rating: 5  votes:   8  helpful:   5\\n',\n",
       " '    2003-11-25  cutomer: A3IGHTES8ME05L  rating: 5  votes:   5  helpful:   5\\n',\n",
       " '    2004-2-11  cutomer: A1CP26N8RHYVVO  rating: 1  votes:  13  helpful:   9\\n',\n",
       " '    2005-2-7  cutomer:  ANEIANH0WAT9D  rating: 5  votes:   1  helpful:   1\\n',\n",
       " '\\n',\n",
       " 'Id:   3\\n',\n",
       " 'ASIN: 0486287785\\n',\n",
       " '  title: World War II Allied Fighter Planes Trading Cards\\n',\n",
       " '  group: Book\\n',\n",
       " '  salesrank: 1270652\\n',\n",
       " '  similar: 0\\n',\n",
       " '  categories: 1\\n',\n",
       " '   |Books[283155]|Subjects[1000]|Home & Garden[48]|Crafts & Hobbies[5126]|General[5144]\\n',\n",
       " '  reviews: total: 1  downloaded: 1  avg rating: 5\\n',\n",
       " '    2003-7-10  cutomer: A3IDGASRQAW8B2  rating: 5  votes:   2  helpful:   2\\n',\n",
       " '\\n',\n",
       " 'Id:   4\\n',\n",
       " 'ASIN: 0842328327\\n',\n",
       " '  title: Life Application Bible Commentary: 1 and 2 Timothy and Titus\\n',\n",
       " '  group: Book\\n',\n",
       " '  salesrank: 631289\\n',\n",
       " '  similar: 5  0842328130  0830818138  0842330313  0842328610  0842328572\\n',\n",
       " '  categories: 5\\n',\n",
       " '   |Books[283155]|Subjects[1000]|Religion & Spirituality[22]|Christianity[12290]|Reference[172810]|Commentaries[12155]|New Testament[12159]\\n',\n",
       " '   |Books[283155]|Subjects[1000]|Religion & Spirituality[22]|Christianity[12290]|Christian Living[12333]|Discipleship[12335]\\n',\n",
       " '   |Books[283155]|Subjects[1000]|Religion & Spirituality[22]|Christianity[12290]|Bibles[12059]|Translations[764432]|Life Application[572080]\\n',\n",
       " '   |Books[283155]|Subjects[1000]|Religion & Spirituality[22]|Bible & Other Sacred Texts[12056]|Bible[764430]|New Testament[572082]\\n',\n",
       " '   |Books[283155]|Subjects[1000]|Religion & Spirituality[22]|Christianity[12290]|Bibles[12059]|Study Guides, History & Reference[764438]|General[572094]\\n',\n",
       " '  reviews: total: 1  downloaded: 1  avg rating: 4\\n',\n",
       " '    2004-8-19  cutomer: A2591BUPXCS705  rating: 4  votes:   1  helpful:   1\\n',\n",
       " '\\n',\n",
       " 'Id:   5\\n',\n",
       " 'ASIN: 1577943082\\n',\n",
       " '  title: Prayers That Avail Much for Business: Executive\\n',\n",
       " '  group: Book\\n',\n",
       " '  salesrank: 455160\\n',\n",
       " '  similar: 5  157794349X  0892749504  1577941829  0892749563  1577946006\\n',\n",
       " '  categories: 2\\n',\n",
       " '   |Books[283155]|Subjects[1000]|Religion & Spirituality[22]|Christianity[12290]|Worship & Devotion[12465]|Prayerbooks[12470]\\n',\n",
       " '   |Books[283155]|Subjects[1000]|Religion & Spirituality[22]|Christianity[12290]|Christian Living[12333]|Business[297488]\\n',\n",
       " '  reviews: total: 0  downloaded: 0  avg rating: 0\\n',\n",
       " '\\n',\n",
       " 'Id:   6\\n',\n",
       " 'ASIN: 0486220125\\n',\n",
       " '  title: How the Other Half Lives: Studies Among the Tenements of New York\\n',\n",
       " '  group: Book\\n',\n",
       " '  salesrank: 188784\\n',\n",
       " '  similar: 5  0486401960  0452283612  0486229076  0714840343  0374528993\\n',\n",
       " '  categories: 5\\n',\n",
       " '   |Books[283155]|Subjects[1000]|Arts & Photography[1]|Photography[2020]|Photo Essays[2082]\\n',\n",
       " '   |Books[283155]|Subjects[1000]|History[9]|Americas[4808]|United States[4853]|General[4870]\\n',\n",
       " '   |Books[283155]|Subjects[1000]|History[9]|Jewish[4992]|General[4993]\\n',\n",
       " '   |Books[283155]|Subjects[1000]|Nonfiction[53]|Social Sciences[11232]|Sociology[11288]|Urban[11296]\\n',\n",
       " '   |[172282]|Categories[493964]|Camera & Photo[502394]|Photography Books[733540]|Photo Essays[733676]\\n',\n",
       " '  reviews: total: 17  downloaded: 17  avg rating: 4\\n',\n",
       " '    1997-7-4  cutomer:  ATVPDKIKX0DER  rating: 5  votes:  12  helpful:  11\\n',\n",
       " '    1998-10-11  cutomer:  AUEZ7NVOEHYRY  rating: 5  votes:  13  helpful:  12\\n',\n",
       " '    1999-4-15  cutomer:  ATVPDKIKX0DER  rating: 5  votes:  18  helpful:   7\\n',\n",
       " '    2000-1-4  cutomer:  AJYG6ZJUQPZ9M  rating: 4  votes:  14  helpful:  10\\n',\n",
       " '    2000-2-8  cutomer: A2ESGJTTLJWIAK  rating: 5  votes:  17  helpful:  11\\n',\n",
       " '    2000-4-28  cutomer: A2CHULHAO3A9BY  rating: 5  votes:  23  helpful:  16\\n',\n",
       " '    2001-10-9  cutomer: A3BNWP7ATVP045  rating: 5  votes:   7  helpful:   6\\n']"
      ]
     },
     "execution_count": 6,
     "metadata": {},
     "output_type": "execute_result"
    }
   ],
   "source": [
    "[file[i] for i in np.arange(1,100)]"
   ]
  },
  {
   "cell_type": "code",
   "execution_count": 7,
   "metadata": {},
   "outputs": [],
   "source": [
    "rows = df_id_locations.apply(tuple, axis=1)\n",
    "chunks = []\n",
    "for i in rows:\n",
    "    c,a,b = i\n",
    "    chunks.append([c]+[file[int(i)] for i in np.arange(a-1,b-2)])"
   ]
  },
  {
   "cell_type": "markdown",
   "metadata": {},
   "source": [
    "### 2. Build Range"
   ]
  },
  {
   "cell_type": "code",
   "execution_count": 8,
   "metadata": {},
   "outputs": [],
   "source": [
    "ids = []\n",
    "expandedrange = []\n",
    "for i in df_id_locations.iterrows():    \n",
    "    prod_id = i[1][0]\n",
    "    row_range = np.arange(i[1][1], i[1][2])\n",
    "    length = len(row_range)\n",
    "    ids += [prod_id]*length\n",
    "    expandedrange += list(row_range)\n",
    "df_id_row_lookup = pd.DataFrame(list(zip(ids,expandedrange)), columns = ['ID', 'Rows'])"
   ]
  },
  {
   "cell_type": "markdown",
   "metadata": {},
   "source": [
    "### 3. IDENTIFY REVIEW / CATEGORY MATCH in RANGES"
   ]
  },
  {
   "cell_type": "code",
   "execution_count": 9,
   "metadata": {},
   "outputs": [],
   "source": [
    "df_id_row_lookup['review_start'] = df_id_row_lookup.Rows.isin(review_extraction.line_location) + 0\n",
    "df_id_row_lookup['category_start'] = df_id_row_lookup.Rows.isin(category_extraction.line_location) + 0 "
   ]
  },
  {
   "cell_type": "code",
   "execution_count": 10,
   "metadata": {},
   "outputs": [],
   "source": [
    "df_id_row_lookup['group_start'] = df_id_row_lookup.Rows.isin(extract_group.line_location) + 0 \n",
    "df_id_row_lookup['rank_start'] = df_id_row_lookup.Rows.isin(extract_rank.line_location) + 0 \n",
    "df_id_row_lookup['sim_start'] = df_id_row_lookup.Rows.isin(extract_sim.line_location) + 0 \n",
    "\n",
    "\n"
   ]
  },
  {
   "cell_type": "markdown",
   "metadata": {},
   "source": [
    "### 4.  JOIN RANGE TO REVIEW / CAT LOCATION. BUILD DF AND JOIN TO Original"
   ]
  },
  {
   "cell_type": "code",
   "execution_count": 11,
   "metadata": {},
   "outputs": [],
   "source": [
    "detail_index = df_id_row_lookup\n",
    "detail_index = pd.melt(detail_index, id_vars= ['ID','Rows'])\n",
    "detail_index = detail_index.query(\"value != 0\")\n",
    "detail_index = pd.pivot_table(index = [\"ID\"], columns = 'variable', values='Rows', data = detail_index)\n",
    "df_id_locations = df_id_locations.merge(detail_index, left_on= \"ID\", right_index= True, how = 'right')\n",
    "df_chunk_lengths = pd.DataFrame([[i[0], len(i)] for i in chunks], columns = [\"ID\", \"CHUNK_LEN\"])\n",
    "df_id_locations = df_id_locations.merge(df_chunk_lengths, on = \"ID\", how = 'left')"
   ]
  },
  {
   "cell_type": "markdown",
   "metadata": {},
   "source": [
    "### 5. Create and write id tables for rank, group, and similiarity "
   ]
  },
  {
   "cell_type": "code",
   "execution_count": 12,
   "metadata": {
    "scrolled": true
   },
   "outputs": [
    {
     "data": {
      "text/html": [
       "<div>\n",
       "<style scoped>\n",
       "    .dataframe tbody tr th:only-of-type {\n",
       "        vertical-align: middle;\n",
       "    }\n",
       "\n",
       "    .dataframe tbody tr th {\n",
       "        vertical-align: top;\n",
       "    }\n",
       "\n",
       "    .dataframe thead th {\n",
       "        text-align: right;\n",
       "    }\n",
       "</style>\n",
       "<table border=\"1\" class=\"dataframe\">\n",
       "  <thead>\n",
       "    <tr style=\"text-align: right;\">\n",
       "      <th></th>\n",
       "      <th>ID</th>\n",
       "      <th>start</th>\n",
       "      <th>end</th>\n",
       "      <th>category_start</th>\n",
       "      <th>group_start</th>\n",
       "      <th>rank_start</th>\n",
       "      <th>review_start</th>\n",
       "      <th>sim_start</th>\n",
       "      <th>CHUNK_LEN</th>\n",
       "    </tr>\n",
       "  </thead>\n",
       "  <tbody>\n",
       "    <tr>\n",
       "      <th>0</th>\n",
       "      <td>1</td>\n",
       "      <td>8</td>\n",
       "      <td>21.0</td>\n",
       "      <td>14.0</td>\n",
       "      <td>11.0</td>\n",
       "      <td>12.0</td>\n",
       "      <td>17.0</td>\n",
       "      <td>13.0</td>\n",
       "      <td>13</td>\n",
       "    </tr>\n",
       "    <tr>\n",
       "      <th>1</th>\n",
       "      <td>2</td>\n",
       "      <td>21</td>\n",
       "      <td>44.0</td>\n",
       "      <td>27.0</td>\n",
       "      <td>24.0</td>\n",
       "      <td>25.0</td>\n",
       "      <td>30.0</td>\n",
       "      <td>26.0</td>\n",
       "      <td>23</td>\n",
       "    </tr>\n",
       "    <tr>\n",
       "      <th>2</th>\n",
       "      <td>3</td>\n",
       "      <td>44</td>\n",
       "      <td>55.0</td>\n",
       "      <td>50.0</td>\n",
       "      <td>47.0</td>\n",
       "      <td>48.0</td>\n",
       "      <td>52.0</td>\n",
       "      <td>49.0</td>\n",
       "      <td>11</td>\n",
       "    </tr>\n",
       "    <tr>\n",
       "      <th>3</th>\n",
       "      <td>4</td>\n",
       "      <td>55</td>\n",
       "      <td>70.0</td>\n",
       "      <td>61.0</td>\n",
       "      <td>58.0</td>\n",
       "      <td>59.0</td>\n",
       "      <td>67.0</td>\n",
       "      <td>60.0</td>\n",
       "      <td>15</td>\n",
       "    </tr>\n",
       "    <tr>\n",
       "      <th>4</th>\n",
       "      <td>5</td>\n",
       "      <td>70</td>\n",
       "      <td>81.0</td>\n",
       "      <td>76.0</td>\n",
       "      <td>73.0</td>\n",
       "      <td>74.0</td>\n",
       "      <td>79.0</td>\n",
       "      <td>75.0</td>\n",
       "      <td>11</td>\n",
       "    </tr>\n",
       "  </tbody>\n",
       "</table>\n",
       "</div>"
      ],
      "text/plain": [
       "  ID  start   end  category_start  group_start  rank_start  review_start  \\\n",
       "0  1      8  21.0            14.0         11.0        12.0          17.0   \n",
       "1  2     21  44.0            27.0         24.0        25.0          30.0   \n",
       "2  3     44  55.0            50.0         47.0        48.0          52.0   \n",
       "3  4     55  70.0            61.0         58.0        59.0          67.0   \n",
       "4  5     70  81.0            76.0         73.0        74.0          79.0   \n",
       "\n",
       "   sim_start  CHUNK_LEN  \n",
       "0       13.0         13  \n",
       "1       26.0         23  \n",
       "2       49.0         11  \n",
       "3       60.0         15  \n",
       "4       75.0         11  "
      ]
     },
     "execution_count": 12,
     "metadata": {},
     "output_type": "execute_result"
    }
   ],
   "source": [
    "df_id_locations.head()"
   ]
  },
  {
   "cell_type": "code",
   "execution_count": 13,
   "metadata": {},
   "outputs": [],
   "source": [
    "group_class = [np.str.split(np.str.strip(i))[1] for i in extract_group.line_content]\n",
    "df_groups = pd.DataFrame(list(zip(extract_group.line_location,group_class)), columns = ['group_start','group'])\n",
    "df_groups = df_groups.merge(df_id_locations[['ID','group_start']], how = 'inner')\n",
    "\n",
    "rank_value = [np.str.split(np.str.strip(i))[1] for i in extract_rank.line_content]\n",
    "df_rank = pd.DataFrame(list(zip(extract_rank.line_location,rank_value)), columns = ['rank_start','rank'])\n",
    "df_rank = df_rank.merge(df_id_locations[['ID','rank_start']], how = 'inner')\n",
    "\n",
    "df_rank_and_group = df_rank.merge(df_groups, on = 'ID').drop(['group_start','rank_start'],1)\n",
    "df_rank_and_group.to_csv(\"rank_and_group.csv\", index = False)"
   ]
  },
  {
   "cell_type": "code",
   "execution_count": 14,
   "metadata": {},
   "outputs": [
    {
     "data": {
      "text/html": [
       "<div>\n",
       "<style scoped>\n",
       "    .dataframe tbody tr th:only-of-type {\n",
       "        vertical-align: middle;\n",
       "    }\n",
       "\n",
       "    .dataframe tbody tr th {\n",
       "        vertical-align: top;\n",
       "    }\n",
       "\n",
       "    .dataframe thead th {\n",
       "        text-align: right;\n",
       "    }\n",
       "</style>\n",
       "<table border=\"1\" class=\"dataframe\">\n",
       "  <thead>\n",
       "    <tr style=\"text-align: right;\">\n",
       "      <th></th>\n",
       "      <th>rank</th>\n",
       "      <th>ID</th>\n",
       "      <th>group</th>\n",
       "    </tr>\n",
       "  </thead>\n",
       "  <tbody>\n",
       "    <tr>\n",
       "      <th>0</th>\n",
       "      <td>396585</td>\n",
       "      <td>1</td>\n",
       "      <td>Book</td>\n",
       "    </tr>\n",
       "    <tr>\n",
       "      <th>1</th>\n",
       "      <td>168596</td>\n",
       "      <td>2</td>\n",
       "      <td>Book</td>\n",
       "    </tr>\n",
       "    <tr>\n",
       "      <th>2</th>\n",
       "      <td>1270652</td>\n",
       "      <td>3</td>\n",
       "      <td>Book</td>\n",
       "    </tr>\n",
       "  </tbody>\n",
       "</table>\n",
       "</div>"
      ],
      "text/plain": [
       "      rank ID group\n",
       "0   396585  1  Book\n",
       "1   168596  2  Book\n",
       "2  1270652  3  Book"
      ]
     },
     "execution_count": 14,
     "metadata": {},
     "output_type": "execute_result"
    }
   ],
   "source": [
    "df_rank_and_group.head(3)"
   ]
  },
  {
   "cell_type": "code",
   "execution_count": 15,
   "metadata": {},
   "outputs": [
    {
     "data": {
      "text/html": [
       "<div>\n",
       "<style scoped>\n",
       "    .dataframe tbody tr th:only-of-type {\n",
       "        vertical-align: middle;\n",
       "    }\n",
       "\n",
       "    .dataframe tbody tr th {\n",
       "        vertical-align: top;\n",
       "    }\n",
       "\n",
       "    .dataframe thead th {\n",
       "        text-align: right;\n",
       "    }\n",
       "</style>\n",
       "<table border=\"1\" class=\"dataframe\">\n",
       "  <thead>\n",
       "    <tr style=\"text-align: right;\">\n",
       "      <th></th>\n",
       "      <th>sim_start</th>\n",
       "      <th>variable</th>\n",
       "      <th>value</th>\n",
       "      <th>ID</th>\n",
       "    </tr>\n",
       "  </thead>\n",
       "  <tbody>\n",
       "    <tr>\n",
       "      <th>0</th>\n",
       "      <td>13</td>\n",
       "      <td>2</td>\n",
       "      <td>0804215715</td>\n",
       "      <td>1</td>\n",
       "    </tr>\n",
       "    <tr>\n",
       "      <th>1</th>\n",
       "      <td>13</td>\n",
       "      <td>3</td>\n",
       "      <td>156101074X</td>\n",
       "      <td>1</td>\n",
       "    </tr>\n",
       "    <tr>\n",
       "      <th>2</th>\n",
       "      <td>13</td>\n",
       "      <td>4</td>\n",
       "      <td>0687023955</td>\n",
       "      <td>1</td>\n",
       "    </tr>\n",
       "  </tbody>\n",
       "</table>\n",
       "</div>"
      ],
      "text/plain": [
       "  sim_start variable       value ID\n",
       "0        13        2  0804215715  1\n",
       "1        13        3  156101074X  1\n",
       "2        13        4  0687023955  1"
      ]
     },
     "execution_count": 15,
     "metadata": {},
     "output_type": "execute_result"
    }
   ],
   "source": [
    "sim_items = [np.str.split(np.str.strip(i)) for i in extract_sim.line_content]\n",
    "df_similar = pd.DataFrame(sim_items)\n",
    "df_similar['sim_start'] = extract_sim.line_location\n",
    "df_similar = pd.melt(id_vars = 'sim_start',frame= df_similar.iloc[:,2:])\n",
    "df_similar = df_similar.merge(df_id_locations[['ID','sim_start']], how = 'inner').dropna()\n",
    "df_similar.to_csv('similar.csv',index = False)\n",
    "df_similar.head(3)"
   ]
  },
  {
   "cell_type": "markdown",
   "metadata": {},
   "source": [
    "# Build Content Extractor"
   ]
  },
  {
   "cell_type": "code",
   "execution_count": 16,
   "metadata": {},
   "outputs": [],
   "source": [
    "def extract_detail_rows(columns, dont_split = True):\n",
    "    within_lines = df_id_locations[columns].apply(tuple, axis=1)\n",
    "    detail_collector = []\n",
    "    for row in within_lines:\n",
    "        prod_id,a,b = row\n",
    "\n",
    "        if (b == a):\n",
    "            review_detail_collector.append([[int(prod_id)] + [np.nan]*5])\n",
    "\n",
    "        prod_id = int(prod_id)\n",
    "        search_space = chunks[prod_id]\n",
    "        query_range = np.arange(a,b-2)\n",
    "        \n",
    "        if dont_split == True:\n",
    "            detail_collector += [[prod_id, file[int(line)]] for line in query_range]\n",
    "        else: \n",
    "            detail_collector += [[prod_id] + np.str.split(file[int(line)]) for line in query_range]\n",
    "    return detail_collector\n"
   ]
  },
  {
   "cell_type": "markdown",
   "metadata": {},
   "source": [
    "## Extract / Create Reviews FRAME"
   ]
  },
  {
   "cell_type": "code",
   "execution_count": 17,
   "metadata": {},
   "outputs": [],
   "source": [
    "reviews_frame = extract_detail_rows(columns =  ['ID','review_start', 'end'], dont_split= False)\n",
    "reviews_frame = pd.DataFrame(reviews_frame)\n",
    "reviews_frame = reviews_frame.drop([2,4,6,8], axis = 1)\n",
    "reviews_frame.columns = ['PROD_ID','REVIEW_DATE','CUSTOMER_ID','RATING','VOTES','HELPFUL']"
   ]
  },
  {
   "cell_type": "markdown",
   "metadata": {},
   "source": [
    "## Extract / Create CATEGORY FRAME"
   ]
  },
  {
   "cell_type": "code",
   "execution_count": 19,
   "metadata": {},
   "outputs": [],
   "source": [
    "categories = extract_detail_rows(columns =  ['ID','category_start', 'review_start'], dont_split= True)"
   ]
  },
  {
   "cell_type": "markdown",
   "metadata": {},
   "source": [
    "### Parse / Organize categories"
   ]
  },
  {
   "cell_type": "code",
   "execution_count": 20,
   "metadata": {},
   "outputs": [],
   "source": [
    "counter = 0\n",
    "all_categories = []\n",
    "for case in categories:\n",
    "    prod_id = case[0]\n",
    "    counter += 1\n",
    "    category_content = case[1]\n",
    "    category_content = np.str.strip(category_content)\n",
    "    category_content = re.sub(r\"^[|]|[]]\", \"\", category_content)\n",
    "    category_content = category_content.split(\"|\")\n",
    "    sub_count = 0 \n",
    "    for sub_case in category_content:\n",
    "        sub_count += 1\n",
    "        all_categories += [[prod_id] + [counter] + [sub_count] +  sub_case.split(\"[\")]   "
   ]
  },
  {
   "cell_type": "code",
   "execution_count": 21,
   "metadata": {},
   "outputs": [
    {
     "name": "stderr",
     "output_type": "stream",
     "text": [
      "c:\\users\\chris\\appdata\\local\\programs\\python\\python36\\lib\\site-packages\\ipykernel_launcher.py:4: SettingWithCopyWarning: \n",
      "A value is trying to be set on a copy of a slice from a DataFrame.\n",
      "Try using .loc[row_indexer,col_indexer] = value instead\n",
      "\n",
      "See the caveats in the documentation: http://pandas.pydata.org/pandas-docs/stable/indexing.html#indexing-view-versus-copy\n",
      "  after removing the cwd from sys.path.\n",
      "c:\\users\\chris\\appdata\\local\\programs\\python\\python36\\lib\\site-packages\\ipykernel_launcher.py:5: SettingWithCopyWarning: \n",
      "A value is trying to be set on a copy of a slice from a DataFrame.\n",
      "Try using .loc[row_indexer,col_indexer] = value instead\n",
      "\n",
      "See the caveats in the documentation: http://pandas.pydata.org/pandas-docs/stable/indexing.html#indexing-view-versus-copy\n",
      "  \"\"\"\n"
     ]
    }
   ],
   "source": [
    "category_frame = pd.DataFrame(all_categories, columns = ['PROD_ID', 'TBL_ID','CATEGORY_ORDER','DESC','CAT_CODE','X'])\n",
    "category_frame1 = category_frame[category_frame.X.isnull()].drop(\"X\",1)\n",
    "category_frame2 = category_frame[~category_frame.X.isnull()]\n",
    "category_frame2['DESC'] = category_frame2.DESC.str.strip() + \" (\" + category_frame2.CAT_CODE.str.strip()+\")\"\n",
    "category_frame2['CAT_CODE'] = category_frame2.X\n",
    "category_frame2 = category_frame2.drop(\"X\",1)\n",
    "category_frame = category_frame1.append(category_frame2)"
   ]
  },
  {
   "cell_type": "markdown",
   "metadata": {},
   "source": [
    "## WRITE TO CSV"
   ]
  },
  {
   "cell_type": "code",
   "execution_count": 22,
   "metadata": {},
   "outputs": [],
   "source": [
    "category_frame.to_csv(\"categories.csv\")\n",
    "reviews_frame.to_csv(\"reviews.csv\")"
   ]
  }
 ],
 "metadata": {
  "kernelspec": {
   "display_name": "Python 3",
   "language": "python",
   "name": "python3"
  },
  "language_info": {
   "codemirror_mode": {
    "name": "ipython",
    "version": 3
   },
   "file_extension": ".py",
   "mimetype": "text/x-python",
   "name": "python",
   "nbconvert_exporter": "python",
   "pygments_lexer": "ipython3",
   "version": "3.6.3"
  }
 },
 "nbformat": 4,
 "nbformat_minor": 2
}
