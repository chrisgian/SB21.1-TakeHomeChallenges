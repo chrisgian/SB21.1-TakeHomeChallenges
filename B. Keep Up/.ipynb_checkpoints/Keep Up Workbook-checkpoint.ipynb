{
 "cells": [
  {
   "cell_type": "markdown",
   "metadata": {},
   "source": [
    "A. (Suggested duration: 90 mins)\n",
    "With the given data for 548552 products, perform exploratory analysis and make\n",
    "suggestions for further analysis on the following aspects.\n",
    "\n",
    "1. **Trustworthiness of ratings:** Ratings are susceptible to manipulation, bias etc. What can you say (quantitatively speaking) about the ratings in this dataset?\n",
    "\n",
    "2. **Category bloat:** Consider the product group named 'Books'. Each product in this group is associated with\n",
    "    categories. Naturally, with categorization, there are tradeoffs between how broad or\n",
    "    specific the categories must be.\n",
    "    For this dataset, quantify the following: \n",
    "        a. Is there redundancy in the categorization? How can it be identified/removed? \n",
    "        b. Is is possible to reduce the number of categories drastically (say to 10% of existing categories) by sacrificing relatively few category entries (say close to 10%)?"
   ]
  },
  {
   "cell_type": "code",
   "execution_count": 99,
   "metadata": {},
   "outputs": [
    {
     "name": "stdout",
     "output_type": "stream",
     "text": [
      "Number of lines 15010574\n"
     ]
    }
   ],
   "source": [
    "import pandas as pd\n",
    "import numpy as np\n",
    "import itertools\n",
    "file = open(\"amazon-meta.txt\",encoding=\"utf8\")\n",
    "file = file.readlines()\n",
    "print(\"Number of lines\", len(file))"
   ]
  },
  {
   "cell_type": "markdown",
   "metadata": {},
   "source": [
    "## A. Extract IDS"
   ]
  },
  {
   "cell_type": "code",
   "execution_count": 100,
   "metadata": {
    "collapsed": true
   },
   "outputs": [],
   "source": [
    "# Extract lines where \"Id\" Shows up\n",
    "id_in_line = []\n",
    "with open(\"amazon-meta.txt\",encoding=\"utf8\") as myfile:\n",
    "    for num, line in enumerate(myfile, 1):\n",
    "        if 'Id:' in line:\n",
    "            id_in_line.append(num)\n",
    "            \n",
    "search_these_ids = id_in_line\n",
    "queried_ids = [file[i-1] for i in search_these_ids]\n",
    "extracted_ids = [np.str.split(np.str.strip(i))[1] for i in queried_ids]"
   ]
  },
  {
   "cell_type": "markdown",
   "metadata": {},
   "source": [
    "### A1. Clean\n",
    "- Results of QA:\n",
    "    - Four books have \"Id: in it\n",
    "    - Exclude these. "
   ]
  },
  {
   "cell_type": "code",
   "execution_count": 101,
   "metadata": {},
   "outputs": [
    {
     "data": {
      "text/html": [
       "<div>\n",
       "<style>\n",
       "    .dataframe thead tr:only-child th {\n",
       "        text-align: right;\n",
       "    }\n",
       "\n",
       "    .dataframe thead th {\n",
       "        text-align: left;\n",
       "    }\n",
       "\n",
       "    .dataframe tbody tr th {\n",
       "        vertical-align: top;\n",
       "    }\n",
       "</style>\n",
       "<table border=\"1\" class=\"dataframe\">\n",
       "  <thead>\n",
       "    <tr style=\"text-align: right;\">\n",
       "      <th></th>\n",
       "      <th>ID</th>\n",
       "      <th>line</th>\n",
       "    </tr>\n",
       "  </thead>\n",
       "  <tbody>\n",
       "    <tr>\n",
       "      <th>119183</th>\n",
       "      <td>Monsters</td>\n",
       "      <td>3271146</td>\n",
       "    </tr>\n",
       "    <tr>\n",
       "      <th>255659</th>\n",
       "      <td>The</td>\n",
       "      <td>6926372</td>\n",
       "    </tr>\n",
       "    <tr>\n",
       "      <th>468385</th>\n",
       "      <td>The</td>\n",
       "      <td>12450227</td>\n",
       "    </tr>\n",
       "    <tr>\n",
       "      <th>489633</th>\n",
       "      <td>Id:</td>\n",
       "      <td>13000643</td>\n",
       "    </tr>\n",
       "  </tbody>\n",
       "</table>\n",
       "</div>"
      ],
      "text/plain": [
       "              ID      line\n",
       "119183  Monsters   3271146\n",
       "255659       The   6926372\n",
       "468385       The  12450227\n",
       "489633       Id:  13000643"
      ]
     },
     "execution_count": 101,
     "metadata": {},
     "output_type": "execute_result"
    }
   ],
   "source": [
    "data_check = pd.DataFrame({\"line\":id_in_line,\"ID\":extracted_ids})\n",
    "errors = data_check[data_check.ID.str.contains(\"^[a-z]\", case = False)]\n",
    "errors.head()"
   ]
  },
  {
   "cell_type": "code",
   "execution_count": 102,
   "metadata": {},
   "outputs": [
    {
     "data": {
      "text/plain": [
       "['  title: Monsters from the Id: The Rise of Horror in Fiction and Film\\n',\n",
       " \"  title: The Unconscious and the Id: A Volume from Laplanche's Problematiques\\n\",\n",
       " '  title: The Sea of Precious Virtues: Bahr Al-Favaid : A Medieval Islamic Mirror for Princes (Bahr Al-Fava Id: a Medieval Islamic Mirror for Princes)\\n',\n",
       " '  title: Id: Peace B\\n']"
      ]
     },
     "execution_count": 102,
     "metadata": {},
     "output_type": "execute_result"
    }
   ],
   "source": [
    "[file[i-1] for i in errors.line]"
   ]
  },
  {
   "cell_type": "code",
   "execution_count": 103,
   "metadata": {},
   "outputs": [
    {
     "data": {
      "text/plain": [
       "548552"
      ]
     },
     "execution_count": 103,
     "metadata": {},
     "output_type": "execute_result"
    }
   ],
   "source": [
    "data_checked = data_check[~data_check.ID.isin(errors.ID)]\n",
    "len(data_checked)"
   ]
  },
  {
   "cell_type": "markdown",
   "metadata": {},
   "source": [
    "## B. Create a list of Product Information by ID"
   ]
  },
  {
   "cell_type": "code",
   "execution_count": 104,
   "metadata": {},
   "outputs": [
    {
     "name": "stderr",
     "output_type": "stream",
     "text": [
      "C:\\Users\\Chris\\Anaconda3\\lib\\site-packages\\ipykernel\\__main__.py:1: SettingWithCopyWarning: \n",
      "A value is trying to be set on a copy of a slice from a DataFrame.\n",
      "Try using .loc[row_indexer,col_indexer] = value instead\n",
      "\n",
      "See the caveats in the documentation: http://pandas.pydata.org/pandas-docs/stable/indexing.html#indexing-view-versus-copy\n",
      "  if __name__ == '__main__':\n"
     ]
    }
   ],
   "source": [
    "data_checked['next_id_line'] = data_checked.line.shift(-1)\n",
    "rows = data_checked[['ID','line', 'next_id_line']].apply(tuple, axis=1)\n",
    "chunks = []\n",
    "for i in rows:\n",
    "    c,a,b = i\n",
    "    chunks.append([c]+[file[int(i)] for i in np.arange(a-1,b-2)])"
   ]
  },
  {
   "cell_type": "markdown",
   "metadata": {},
   "source": [
    "## Build \"Reviews\" data frame\n",
    "- Build Summary\n",
    "- Build individual Level\n",
    "\n",
    "#### Build Summary frame"
   ]
  },
  {
   "cell_type": "code",
   "execution_count": 106,
   "metadata": {},
   "outputs": [
    {
     "data": {
      "text/plain": [
       "[1, 1, 1, 1, 1, 1, 1, 1, 1, 1, 3]"
      ]
     },
     "execution_count": 106,
     "metadata": {},
     "output_type": "execute_result"
    }
   ],
   "source": [
    "[1]*10+[3]"
   ]
  },
  {
   "cell_type": "code",
   "execution_count": 109,
   "metadata": {
    "collapsed": true
   },
   "outputs": [],
   "source": [
    "review_line = []\n",
    "for i in chunks:\n",
    "    chunk_len = len(i)\n",
    "    chunk_id = i[0]\n",
    "    for num, line in enumerate(i,1):\n",
    "        if 'reviews:' in line:\n",
    "            review_line.appendq ([chunk_id] + [chunk_len] + [num] + [float([i for i in np.str.split(line)][i]) for i in [2,4,7]])\n",
    "review_summary_by_id = pd.DataFrame(review_line, columns = ['id','chunk_len','review_line_in_chunk','review_total','review_downloaded','review_rating'])            "
   ]
  },
  {
   "cell_type": "code",
   "execution_count": 119,
   "metadata": {
    "collapsed": true
   },
   "outputs": [],
   "source": [
    "import re"
   ]
  },
  {
   "cell_type": "code",
   "execution_count": 134,
   "metadata": {},
   "outputs": [],
   "source": [
    "keyword_list = ['reviews','category']\n",
    "\n",
    "if any(word in chunks for word in keyword_list):\n",
    "    print('found one of em')"
   ]
  },
  {
   "cell_type": "markdown",
   "metadata": {},
   "source": [
    "#### Build Detail Frame"
   ]
  },
  {
   "cell_type": "code",
   "execution_count": 53,
   "metadata": {
    "collapsed": true
   },
   "outputs": [],
   "source": [
    "review_lines = review_summary_by_id[['id','chunk_len','review_line_in_chunk']].apply(tuple, axis=1)\n",
    "review_detail_collector = []\n",
    "for row in review_lines:\n",
    "    prod_id,b,a = row\n",
    "    if (b == a):\n",
    "        review_detail_collector.append([[int(prod_id)] + [np.nan]*5])\n",
    "    prod_id = int(prod_id)\n",
    "    search_space = chunks[prod_id]\n",
    "    query_range = np.arange(a,b)\n",
    "    review_detail_collector.append([\n",
    "       [prod_id] + [np.str.split(search_space[line])[column] for column in [0,2,4,6,8]] for line in query_range])"
   ]
  },
  {
   "cell_type": "code",
   "execution_count": 54,
   "metadata": {
    "collapsed": true
   },
   "outputs": [],
   "source": [
    "templist = list(filter(None, review_detail_collector))"
   ]
  },
  {
   "cell_type": "code",
   "execution_count": 79,
   "metadata": {
    "collapsed": true
   },
   "outputs": [],
   "source": [
    "truth = np.arange(1,len(templist))\n",
    "reality = [i[0][0] for i in templist]\n",
    "missing = truth[~pd.Series(truth).isin(reality)]"
   ]
  },
  {
   "cell_type": "code",
   "execution_count": 98,
   "metadata": {},
   "outputs": [
    {
     "data": {
      "text/html": [
       "<div>\n",
       "<style>\n",
       "    .dataframe thead tr:only-child th {\n",
       "        text-align: right;\n",
       "    }\n",
       "\n",
       "    .dataframe thead th {\n",
       "        text-align: left;\n",
       "    }\n",
       "\n",
       "    .dataframe tbody tr th {\n",
       "        vertical-align: top;\n",
       "    }\n",
       "</style>\n",
       "<table border=\"1\" class=\"dataframe\">\n",
       "  <thead>\n",
       "    <tr style=\"text-align: right;\">\n",
       "      <th></th>\n",
       "      <th>id</th>\n",
       "      <th>chunk_len</th>\n",
       "      <th>review_line_in_chunk</th>\n",
       "      <th>review_total</th>\n",
       "      <th>review_downloaded</th>\n",
       "      <th>review_rating</th>\n",
       "    </tr>\n",
       "  </thead>\n",
       "  <tbody>\n",
       "    <tr>\n",
       "      <th>296</th>\n",
       "      <td>297</td>\n",
       "      <td>14</td>\n",
       "      <td>13</td>\n",
       "      <td>1.0</td>\n",
       "      <td>1.0</td>\n",
       "      <td>3.0</td>\n",
       "    </tr>\n",
       "  </tbody>\n",
       "</table>\n",
       "</div>"
      ],
      "text/plain": [
       "      id  chunk_len  review_line_in_chunk  review_total  review_downloaded  \\\n",
       "296  297         14                    13           1.0                1.0   \n",
       "\n",
       "     review_rating  \n",
       "296            3.0  "
      ]
     },
     "execution_count": 98,
     "metadata": {},
     "output_type": "execute_result"
    }
   ],
   "source": [
    "review_summary_by_id.query(\"id == '297'\")"
   ]
  },
  {
   "cell_type": "code",
   "execution_count": 86,
   "metadata": {},
   "outputs": [
    {
     "data": {
      "text/plain": [
       "array([   298,    355,    357, ..., 536465, 536491, 536649])"
      ]
     },
     "execution_count": 86,
     "metadata": {},
     "output_type": "execute_result"
    }
   ],
   "source": [
    "missing"
   ]
  },
  {
   "cell_type": "code",
   "execution_count": 85,
   "metadata": {},
   "outputs": [
    {
     "data": {
      "text/plain": [
       "(5867, 542682, 542683)"
      ]
     },
     "execution_count": 85,
     "metadata": {},
     "output_type": "execute_result"
    }
   ],
   "source": [
    "len(missing), len(truth), len(reality)"
   ]
  },
  {
   "cell_type": "code",
   "execution_count": 89,
   "metadata": {},
   "outputs": [
    {
     "data": {
      "text/plain": [
       "['536465', 'Id:   536465\\n', 'ASIN: 1569373272\\n', '  discontinued product\\n']"
      ]
     },
     "execution_count": 89,
     "metadata": {},
     "output_type": "execute_result"
    }
   ],
   "source": [
    "chunks[536465]"
   ]
  },
  {
   "cell_type": "code",
   "execution_count": 119,
   "metadata": {},
   "outputs": [
    {
     "data": {
      "text/plain": [
       "'  title: Id: Peace B\\n'"
      ]
     },
     "execution_count": 119,
     "metadata": {},
     "output_type": "execute_result"
    }
   ],
   "source": [
    "file[13000642]"
   ]
  }
 ],
 "metadata": {
  "kernelspec": {
   "display_name": "Python 3",
   "language": "python",
   "name": "python3"
  },
  "language_info": {
   "codemirror_mode": {
    "name": "ipython",
    "version": 3
   },
   "file_extension": ".py",
   "mimetype": "text/x-python",
   "name": "python",
   "nbconvert_exporter": "python",
   "pygments_lexer": "ipython3",
   "version": "3.6.0"
  }
 },
 "nbformat": 4,
 "nbformat_minor": 2
}
