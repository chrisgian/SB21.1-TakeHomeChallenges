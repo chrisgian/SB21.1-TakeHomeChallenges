{
 "cells": [
  {
   "cell_type": "code",
   "execution_count": 4,
   "metadata": {},
   "outputs": [
    {
     "data": {
      "text/plain": [
       "[(1, '2'),\n",
       " (2, 'd'),\n",
       " (3, 'd'),\n",
       " (4, 's'),\n",
       " (5, 'f'),\n",
       " (6, 'a'),\n",
       " (7, 's'),\n",
       " (8, 'd'),\n",
       " (9, 'f'),\n",
       " (10, 'a'),\n",
       " (11, 's'),\n",
       " (12, 'd'),\n",
       " (13, 'f'),\n",
       " (14, 'a'),\n",
       " (15, 's'),\n",
       " (16, 'd'),\n",
       " (17, 'f'),\n",
       " (18, 'l'),\n",
       " (19, 'a'),\n",
       " (20, 's'),\n",
       " (21, 'k'),\n",
       " (22, 'd'),\n",
       " (23, 'm'),\n",
       " (24, 'f'),\n",
       " (25, 'j')]"
      ]
     },
     "execution_count": 4,
     "metadata": {},
     "output_type": "execute_result"
    }
   ],
   "source": [
    "[i for i in enumerate(\"2ddsfasdfasdfasdflaskdmfj\",1)]"
   ]
  }
 ],
 "metadata": {
  "kernelspec": {
   "display_name": "Python 3",
   "language": "python",
   "name": "python3"
  },
  "language_info": {
   "codemirror_mode": {
    "name": "ipython",
    "version": 3
   },
   "file_extension": ".py",
   "mimetype": "text/x-python",
   "name": "python",
   "nbconvert_exporter": "python",
   "pygments_lexer": "ipython3",
   "version": "3.6.0"
  }
 },
 "nbformat": 4,
 "nbformat_minor": 2
}
